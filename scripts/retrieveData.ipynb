{
 "cells": [
  {
   "cell_type": "markdown",
   "metadata": {},
   "source": [
    "# Setup Python\n"
   ]
  },
  {
   "cell_type": "code",
   "execution_count": 4,
   "metadata": {},
   "outputs": [],
   "source": [
    "from urllib.request import Request, urlopen\n",
    "import json\n",
    "from openmeteo_requests import Client\n",
    "from requests_cache import CachedSession\n",
    "from retry_requests import retry\n",
    "\n",
    "from datetime import datetime, date, timedelta\n",
    "import pandas as pd\n",
    "import os\n",
    "from shutil import rmtree\n"
   ]
  },
  {
   "cell_type": "markdown",
   "metadata": {},
   "source": [
    "# CIM Data\n"
   ]
  },
  {
   "cell_type": "code",
   "execution_count": 2,
   "metadata": {},
   "outputs": [],
   "source": [
    "def retrieve_CIM_data(date):\n",
    "    request = Request(\n",
    "        f'https://api.cim.be/api/cim_tv_public_results_daily_views?dateDiff={date.strftime('%Y-%m-%d')}&reportType=north',\n",
    "        headers={'User-Agent': 'Mozilla/5.0'}\n",
    "    )\n",
    "    response = urlopen(request)\n",
    "\n",
    "    data = json.loads(response.read().decode('utf-8'))\n",
    "    return pd.json_normalize(data['hydra:member'])\n"
   ]
  },
  {
   "cell_type": "markdown",
   "metadata": {},
   "source": [
    "## Retrieve all available CIM data\n"
   ]
  },
  {
   "cell_type": "code",
   "execution_count": 3,
   "metadata": {},
   "outputs": [],
   "source": [
    "start_date = date(2016, 10, 1)\n",
    "end_date = datetime.today() - timedelta(days=31)\n",
    "\n",
    "with open('../data/cim.csv', 'w') as file:\n",
    "    for date in pd.date_range(start=start_date, end=end_date):\n",
    "        data = retrieve_CIM_data(date)\n",
    "\n",
    "        if not data.empty:\n",
    "            data = data[['id', 'reportType', 'dateResult', 'ranking', 'description', 'category', 'channel', 'startTime', 'rLength', 'ratePerc', 'rateInK', 'shr', 'rateInKAll', 'live']]\n",
    "            data.to_csv(file, header=(file.tell() == 0), index=False, lineterminator='\\n')\n"
   ]
  },
  {
   "cell_type": "markdown",
   "metadata": {},
   "source": [
    "## Retrieve all available CIM data since last record\n"
   ]
  },
  {
   "cell_type": "code",
   "execution_count": 4,
   "metadata": {},
   "outputs": [],
   "source": [
    "start_date = pd.to_datetime(pd.read_csv('../data/cim.csv', usecols=['dateResult'])['dateResult'].max()) + timedelta(days=1)\n",
    "end_date = datetime.today() - timedelta(days=31)\n",
    "\n",
    "with open('../data/cim.csv', 'a') as file:\n",
    "    for date in pd.date_range(start=start_date, end=end_date):\n",
    "        data = retrieve_CIM_data(date)\n",
    "\n",
    "        if not data.empty:\n",
    "            data = data[['id', 'reportType', 'dateResult', 'ranking', 'description', 'category', 'channel', 'startTime', 'rLength', 'ratePerc', 'rateInK', 'shr', 'rateInKAll', 'live']]\n",
    "            data.to_csv(file, header=False, index=False, lineterminator='\\n')\n"
   ]
  },
  {
   "cell_type": "markdown",
   "metadata": {},
   "source": [
    "# Weather Data\n"
   ]
  },
  {
   "cell_type": "code",
   "execution_count": 3,
   "metadata": {},
   "outputs": [],
   "source": [
    "def retrieve_weather_data(date):\n",
    "    cache_session = CachedSession('.cache', expire_after = 3600)\n",
    "    retry_session = retry(cache_session, retries = 5, backoff_factor = 0.2)\n",
    "    openmeteo = Client(session = retry_session)\n",
    "\n",
    "    responses = openmeteo.weather_api(\n",
    "        \"https://archive-api.open-meteo.com/v1/archive\",\n",
    "        params = {\n",
    "          \"latitude\": 50.85045,\n",
    "          \"longitude\": 4.34878,\n",
    "          \"start_date\":date,\n",
    "          \"end_date\": f'{(datetime.today() - timedelta(days=1)).strftime('%Y-%m-%d')}',\n",
    "          \"daily\": [\"temperature_2m_max\", \"apparent_temperature_min\", \"sunset\", \"daylight_duration\", \"sunshine_duration\", \"wind_speed_10m_max\", \"wind_gusts_10m_max\", \"wind_direction_10m_dominant\", \"shortwave_radiation_sum\", \"et0_fao_evapotranspiration\", \"sunrise\", \"weather_code\", \"apparent_temperature_max\", \"precipitation_sum\", \"rain_sum\", \"snowfall_sum\", \"precipitation_hours\", \"apparent_temperature_mean\", \"temperature_2m_min\", \"temperature_2m_mean\"],\n",
    "          \"timezone\": \"Europe/Berlin\",\n",
    "        }\n",
    "    )\n",
    "\n",
    "    rmtree('.cache', ignore_errors=True)\n",
    "    return responses\n"
   ]
  },
  {
   "cell_type": "markdown",
   "metadata": {},
   "source": [
    "## Retrieve all available weather data\n"
   ]
  },
  {
   "cell_type": "code",
   "execution_count": 5,
   "metadata": {},
   "outputs": [],
   "source": [
    "responses = retrieve_weather_data(\"2016-10-01\")\n",
    "for response in responses:\n",
    "    daily = response.Daily()\n",
    "\n",
    "    daily_data = {\n",
    "        \"date\": pd.date_range(\n",
    "            start = pd.to_datetime(daily.Time(), unit = \"s\", utc = True),\n",
    "            end = pd.to_datetime(daily.TimeEnd(), unit = \"s\", utc = True),\n",
    "            freq = pd.Timedelta(seconds = daily.Interval()),\n",
    "            inclusive = \"left\"\n",
    "        )\n",
    "    }\n",
    "    daily_data[\"temperature_2m_max\"] = daily.Variables(0).ValuesAsNumpy()\n",
    "    daily_data[\"apparent_temperature_min\"] = daily.Variables(1).ValuesAsNumpy()\n",
    "    daily_data[\"sunset\"] = daily.Variables(2).ValuesAsNumpy()\n",
    "    daily_data[\"daylight_duration\"] = daily.Variables(3).ValuesAsNumpy()\n",
    "    daily_data[\"sunshine_duration\"] = daily.Variables(4).ValuesAsNumpy()\n",
    "    daily_data[\"wind_speed_10m_max\"] = daily.Variables(5).ValuesAsNumpy()\n",
    "    daily_data[\"wind_gusts_10m_max\"] = daily.Variables(6).ValuesAsNumpy()\n",
    "    daily_data[\"wind_direction_10m_dominant\"] = daily.Variables(7).ValuesAsNumpy()\n",
    "    daily_data[\"shortwave_radiation_sum\"] = daily.Variables(8).ValuesAsNumpy()\n",
    "    daily_data[\"et0_fao_evapotranspiration\"] = daily.Variables(9).ValuesAsNumpy()\n",
    "    daily_data[\"sunrise\"] = daily.Variables(10).ValuesAsNumpy()\n",
    "    daily_data[\"weather_code\"] = daily.Variables(11).ValuesAsNumpy()\n",
    "    daily_data[\"apparent_temperature_max\"] = daily.Variables(12).ValuesAsNumpy()\n",
    "    daily_data[\"precipitation_sum\"] = daily.Variables(13).ValuesAsNumpy()\n",
    "    daily_data[\"rain_sum\"] = daily.Variables(14).ValuesAsNumpy()\n",
    "    daily_data[\"snowfall_sum\"] = daily.Variables(15).ValuesAsNumpy()\n",
    "    daily_data[\"precipitation_hours\"] = daily.Variables(16).ValuesAsNumpy()\n",
    "    daily_data[\"apparent_temperature_mean\"] = daily.Variables(17).ValuesAsNumpy()\n",
    "    daily_data[\"temperature_2m_min\"] = daily.Variables(18).ValuesAsNumpy()\n",
    "    daily_data[\"temperature_2m_mean\"] = daily.Variables(19).ValuesAsNumpy()\n",
    "\n",
    "    file_exists = os.path.exists('../data/weather.csv')\n",
    "    pd.DataFrame(daily_data).to_csv(\n",
    "        '../data/weather.csv',\n",
    "        mode='a' if file_exists else 'w',\n",
    "        header=not file_exists,\n",
    "        index=False,\n",
    "        lineterminator='\\n'\n",
    "    )\n"
   ]
  },
  {
   "cell_type": "markdown",
   "metadata": {},
   "source": [
    "## Retrieve all available weather data since last record\n"
   ]
  },
  {
   "cell_type": "code",
   "execution_count": 7,
   "metadata": {},
   "outputs": [],
   "source": [
    "last_date = pd.to_datetime(pd.read_csv('../data/weather.csv', usecols=['date'])['date'].max()) + timedelta(days=2)\n",
    "responses = retrieve_weather_data(last_date.strftime('%Y-%m-%d'))\n",
    "for response in responses:\n",
    "    daily = response.Daily()\n",
    "\n",
    "    daily_data = {\n",
    "        \"date\": pd.date_range(\n",
    "            start = pd.to_datetime(daily.Time(), unit = \"s\", utc = True),\n",
    "            end = pd.to_datetime(daily.TimeEnd(), unit = \"s\", utc = True),\n",
    "            freq = pd.Timedelta(seconds = daily.Interval()),\n",
    "            inclusive = \"left\"\n",
    "        )\n",
    "    }\n",
    "    daily_data[\"temperature_2m_max\"] = daily.Variables(0).ValuesAsNumpy()\n",
    "    daily_data[\"apparent_temperature_min\"] = daily.Variables(1).ValuesAsNumpy()\n",
    "    daily_data[\"sunset\"] = daily.Variables(2).ValuesAsNumpy()\n",
    "    daily_data[\"daylight_duration\"] = daily.Variables(3).ValuesAsNumpy()\n",
    "    daily_data[\"sunshine_duration\"] = daily.Variables(4).ValuesAsNumpy()\n",
    "    daily_data[\"wind_speed_10m_max\"] = daily.Variables(5).ValuesAsNumpy()\n",
    "    daily_data[\"wind_gusts_10m_max\"] = daily.Variables(6).ValuesAsNumpy()\n",
    "    daily_data[\"wind_direction_10m_dominant\"] = daily.Variables(7).ValuesAsNumpy()\n",
    "    daily_data[\"shortwave_radiation_sum\"] = daily.Variables(8).ValuesAsNumpy()\n",
    "    daily_data[\"et0_fao_evapotranspiration\"] = daily.Variables(9).ValuesAsNumpy()\n",
    "    daily_data[\"sunrise\"] = daily.Variables(10).ValuesAsNumpy()\n",
    "    daily_data[\"weather_code\"] = daily.Variables(11).ValuesAsNumpy()\n",
    "    daily_data[\"apparent_temperature_max\"] = daily.Variables(12).ValuesAsNumpy()\n",
    "    daily_data[\"precipitation_sum\"] = daily.Variables(13).ValuesAsNumpy()\n",
    "    daily_data[\"rain_sum\"] = daily.Variables(14).ValuesAsNumpy()\n",
    "    daily_data[\"snowfall_sum\"] = daily.Variables(15).ValuesAsNumpy()\n",
    "    daily_data[\"precipitation_hours\"] = daily.Variables(16).ValuesAsNumpy()\n",
    "    daily_data[\"apparent_temperature_mean\"] = daily.Variables(17).ValuesAsNumpy()\n",
    "    daily_data[\"temperature_2m_min\"] = daily.Variables(18).ValuesAsNumpy()\n",
    "    daily_data[\"temperature_2m_mean\"] = daily.Variables(19).ValuesAsNumpy()\n",
    "\n",
    "    file_exists = os.path.exists('../data/weather.csv')\n",
    "    pd.DataFrame(daily_data).to_csv(\n",
    "        '../data/weather.csv',\n",
    "        mode='a' if file_exists else 'w',\n",
    "        header=not file_exists,\n",
    "        index=False,\n",
    "        lineterminator='\\n'\n",
    "    )\n"
   ]
  },
  {
   "cell_type": "markdown",
   "metadata": {},
   "source": [
    "# CAT Data\n"
   ]
  },
  {
   "cell_type": "code",
   "execution_count": 6,
   "metadata": {},
   "outputs": [],
   "source": [
    "def retrieve_CAT_data(url='/api/tv_public_results?page=1'):\n",
    "    request = Request(\n",
    "        f'https://api.cim.be{url}',\n",
    "        headers={'User-Agent': 'Mozilla/5.0'}\n",
    "    )\n",
    "    response = urlopen(request)\n",
    "\n",
    "    return json.loads(response.read().decode('utf-8'))\n"
   ]
  },
  {
   "cell_type": "markdown",
   "metadata": {},
   "source": [
    "## Retrieve all available CAT data\n"
   ]
  },
  {
   "cell_type": "code",
   "execution_count": 7,
   "metadata": {},
   "outputs": [],
   "source": [
    "data = retrieve_CAT_data()\n",
    "has_next = data['hydra:view'].get('hydra:next') is not None\n",
    "\n",
    "with open('../data/cat.csv', 'w', encoding='utf-8') as file:\n",
    "    while has_next:\n",
    "        page_data = pd.json_normalize(data['hydra:member'])\n",
    "        if not page_data.empty:\n",
    "            page_data = page_data[['id', 'period', 'reportType', 'dateDiff', 'ranking', 'description', 'category', 'channel', 'startTime', 'rLength', 'ratePerc', 'rateInK', 'shr', 'rateInKAll', 'description2', 'live']]\n",
    "            page_data.to_csv(file, header=(file.tell() == 0), index=False, lineterminator='\\n')\n",
    "\n",
    "        data = retrieve_CAT_data(data['hydra:view']['hydra:next'])\n",
    "        has_next = data['hydra:view'].get('hydra:next') is not None\n"
   ]
  }
 ],
 "metadata": {
  "kernelspec": {
   "display_name": ".venv",
   "language": "python",
   "name": "python3"
  },
  "language_info": {
   "codemirror_mode": {
    "name": "ipython",
    "version": 3
   },
   "file_extension": ".py",
   "mimetype": "text/x-python",
   "name": "python",
   "nbconvert_exporter": "python",
   "pygments_lexer": "ipython3",
   "version": "3.13.5"
  }
 },
 "nbformat": 4,
 "nbformat_minor": 2
}
